{
 "cells": [
  {
   "cell_type": "markdown",
   "id": "f6bad2d1",
   "metadata": {},
   "source": [
    "## 53. Maximum Subarray. Medium\n",
    "\n",
    "Given an integer array nums, find the \n",
    "subarray with the largest sum, and return its sum.\n",
    "\n",
    " \n",
    "\n",
    "Example 1:\n",
    "\n",
    "Input: nums = [-2,1,-3,4,-1,2,1,-5,4]\n",
    "Output: 6\n",
    "Explanation: The subarray [4,-1,2,1] has the largest sum 6.\n",
    "\n",
    "Example 2:\n",
    "\n",
    "Input: nums = [1]\n",
    "Output: 1\n",
    "Explanation: The subarray [1] has the largest sum 1.\n",
    "\n",
    "Example 3:\n",
    "\n",
    "Input: nums = [5,4,-1,7,8]\n",
    "Output: 23\n",
    "Explanation: The subarray [5,4,-1,7,8] has the largest sum 23.\n",
    " \n",
    "\n",
    "Constraints:\n",
    "\n",
    "* 1 <= nums.length <= 105\n",
    "* -104 <= nums[i] <= 104\n",
    " \n",
    "\n",
    "* Follow up: If you have figured out the O(n) solution, try coding another solution using the divide and conquer approach, which is more subtle."
   ]
  },
  {
   "cell_type": "code",
   "execution_count": 21,
   "id": "417b51e8",
   "metadata": {},
   "outputs": [],
   "source": [
    "from typing import List\n",
    "class Solution:\n",
    "    def maxSubArray(self, nums: List[int]) -> int:\n",
    "        if len(nums) == 1:\n",
    "            return nums[0]\n",
    "        max_sum = 0\n",
    "        part_sum = 0\n",
    "        for value in nums: # Kadane alg, doens't work with full negative arrays ([-1, -2] -----> output: -1, but alg output is 0)\n",
    "            part_sum += value\n",
    "            max_sum = max(max_sum, part_sum)\n",
    "            if part_sum < 0:\n",
    "                part_sum = 0\n",
    "        return max_sum"
   ]
  },
  {
   "cell_type": "code",
   "execution_count": 22,
   "id": "30e37361",
   "metadata": {},
   "outputs": [
    {
     "name": "stdout",
     "output_type": "stream",
     "text": [
      "CPU times: user 35 µs, sys: 1 µs, total: 36 µs\n",
      "Wall time: 39.3 µs\n"
     ]
    },
    {
     "data": {
      "text/plain": [
       "6"
      ]
     },
     "execution_count": 22,
     "metadata": {},
     "output_type": "execute_result"
    }
   ],
   "source": [
    "%%time\n",
    "nums = [-2,1,-3,4,-1,2,1,-5,4] #Output: 6 Explanation: The subarray [4,-1,2,1] has the largest sum 6.\n",
    "sol = Solution()\n",
    "sol.maxSubArray(nums)"
   ]
  },
  {
   "cell_type": "code",
   "execution_count": 15,
   "id": "63c94c3b",
   "metadata": {},
   "outputs": [
    {
     "name": "stdout",
     "output_type": "stream",
     "text": [
      "CPU times: user 34 µs, sys: 1e+03 ns, total: 35 µs\n",
      "Wall time: 39.3 µs\n"
     ]
    },
    {
     "data": {
      "text/plain": [
       "1"
      ]
     },
     "execution_count": 15,
     "metadata": {},
     "output_type": "execute_result"
    }
   ],
   "source": [
    "%%time\n",
    "nums = [1] #Output: 1 Explanation: The subarray [1] has the largest sum 1.\n",
    "sol = Solution()\n",
    "sol.maxSubArray(nums)"
   ]
  },
  {
   "cell_type": "code",
   "execution_count": 16,
   "id": "71228149",
   "metadata": {},
   "outputs": [
    {
     "name": "stdout",
     "output_type": "stream",
     "text": [
      "CPU times: user 32 µs, sys: 1 µs, total: 33 µs\n",
      "Wall time: 37 µs\n"
     ]
    },
    {
     "data": {
      "text/plain": [
       "23"
      ]
     },
     "execution_count": 16,
     "metadata": {},
     "output_type": "execute_result"
    }
   ],
   "source": [
    "%%time\n",
    "nums = [5,4,-1,7,8] #Output: 23 Explanation: The subarray [5,4,-1,7,8] has the largest sum 23.\n",
    "sol = Solution()\n",
    "sol.maxSubArray(nums)"
   ]
  },
  {
   "cell_type": "code",
   "execution_count": 23,
   "id": "656ac058",
   "metadata": {},
   "outputs": [],
   "source": [
    "from typing import List\n",
    "class Solution:\n",
    "    def maxSubArray(self, nums: List[int]) -> int:\n",
    "        "
   ]
  },
  {
   "cell_type": "code",
   "execution_count": 24,
   "id": "5239d7c9",
   "metadata": {},
   "outputs": [
    {
     "name": "stdout",
     "output_type": "stream",
     "text": [
      "CPU times: user 56 µs, sys: 1e+03 ns, total: 57 µs\n",
      "Wall time: 63.9 µs\n"
     ]
    },
    {
     "data": {
      "text/plain": [
       "6"
      ]
     },
     "execution_count": 24,
     "metadata": {},
     "output_type": "execute_result"
    }
   ],
   "source": [
    "%%time\n",
    "nums = [-2,1,-3,4,-1,2,1,-5,4] #Output: 6 Explanation: The subarray [4,-1,2,1] has the largest sum 6.\n",
    "sol = Solution()\n",
    "sol.maxSubArray(nums)"
   ]
  },
  {
   "cell_type": "code",
   "execution_count": 25,
   "id": "59b08160",
   "metadata": {},
   "outputs": [
    {
     "name": "stdout",
     "output_type": "stream",
     "text": [
      "CPU times: user 30 µs, sys: 1 µs, total: 31 µs\n",
      "Wall time: 34.1 µs\n"
     ]
    },
    {
     "data": {
      "text/plain": [
       "1"
      ]
     },
     "execution_count": 25,
     "metadata": {},
     "output_type": "execute_result"
    }
   ],
   "source": [
    "%%time\n",
    "nums = [1] #Output: 1 Explanation: The subarray [1] has the largest sum 1.\n",
    "sol = Solution()\n",
    "sol.maxSubArray(nums)"
   ]
  },
  {
   "cell_type": "code",
   "execution_count": 26,
   "id": "e603b9a6",
   "metadata": {},
   "outputs": [
    {
     "name": "stdout",
     "output_type": "stream",
     "text": [
      "CPU times: user 35 µs, sys: 1e+03 ns, total: 36 µs\n",
      "Wall time: 40.3 µs\n"
     ]
    },
    {
     "data": {
      "text/plain": [
       "23"
      ]
     },
     "execution_count": 26,
     "metadata": {},
     "output_type": "execute_result"
    }
   ],
   "source": [
    "%%time\n",
    "nums = [5,4,-1,7,8] #Output: 23 Explanation: The subarray [5,4,-1,7,8] has the largest sum 23.\n",
    "sol = Solution()\n",
    "sol.maxSubArray(nums)"
   ]
  },
  {
   "cell_type": "code",
   "execution_count": null,
   "id": "79dd3462",
   "metadata": {},
   "outputs": [],
   "source": []
  }
 ],
 "metadata": {
  "kernelspec": {
   "display_name": "Python 3",
   "language": "python",
   "name": "python3"
  },
  "language_info": {
   "codemirror_mode": {
    "name": "ipython",
    "version": 3
   },
   "file_extension": ".py",
   "mimetype": "text/x-python",
   "name": "python",
   "nbconvert_exporter": "python",
   "pygments_lexer": "ipython3",
   "version": "3.8.8"
  }
 },
 "nbformat": 4,
 "nbformat_minor": 5
}
