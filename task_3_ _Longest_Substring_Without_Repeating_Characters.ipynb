{
 "cells": [
  {
   "cell_type": "markdown",
   "id": "d2bc1480",
   "metadata": {},
   "source": [
    "## Longest Substring Without Repeating Characters. Medium\n",
    "\n",
    "Given a string s, find the length of the longest \n",
    "substring without repeating characters.\n",
    "\n",
    " \n",
    "\n",
    "Example 1:\n",
    "\n",
    "Input: s = \"abcabcbb\"\n",
    "Output: 3\n",
    "Explanation: The answer is \"abc\", with the length of 3.\n",
    "\n",
    "Example 2:\n",
    "\n",
    "Input: s = \"bbbbb\"\n",
    "Output: 1\n",
    "Explanation: The answer is \"b\", with the length of 1.\n",
    "\n",
    "Example 3:\n",
    "\n",
    "Input: s = \"pwwkew\"\n",
    "Output: 3\n",
    "Explanation: The answer is \"wke\", with the length of 3.\n",
    "Notice that the answer must be a substring, \"pwke\" is a subsequence and not a substring.\n",
    " \n",
    "\n",
    "Constraints:\n",
    "\n",
    "0 <= s.length <= 5 * 104\n",
    "s consists of English letters, digits, symbols and spaces."
   ]
  },
  {
   "cell_type": "code",
   "execution_count": 41,
   "id": "fdea4db0",
   "metadata": {},
   "outputs": [],
   "source": [
    "from typing import Counter\n",
    "class Solution:\n",
    "    def lengthOfLongestSubstring(self, s: str) -> int:\n",
    "        d = {}\n",
    "        for i in range(len(s)):\n",
    "            d[s[i]] = i\n",
    "            print(d)\n",
    "            "
   ]
  },
  {
   "cell_type": "code",
   "execution_count": 42,
   "id": "9682619a",
   "metadata": {},
   "outputs": [
    {
     "name": "stdout",
     "output_type": "stream",
     "text": [
      "{'a': 0}\n",
      "{'a': 0, 'b': 1}\n",
      "{'a': 0, 'b': 1, 'c': 2}\n",
      "{'a': 3, 'b': 1, 'c': 2}\n",
      "{'a': 3, 'b': 4, 'c': 2}\n",
      "{'a': 3, 'b': 4, 'c': 5}\n",
      "{'a': 3, 'b': 6, 'c': 5}\n",
      "{'a': 3, 'b': 7, 'c': 5}\n",
      "CPU times: user 596 µs, sys: 270 µs, total: 866 µs\n",
      "Wall time: 679 µs\n"
     ]
    }
   ],
   "source": [
    "%%time\n",
    "s = \"abcabcbb\" #Output: 3 Explanation: The answer is \"abc\", with the length of 3.\n",
    "sol = Solution()\n",
    "sol.lengthOfLongestSubstring(s)"
   ]
  },
  {
   "cell_type": "code",
   "execution_count": 43,
   "id": "8b76ad0b",
   "metadata": {},
   "outputs": [
    {
     "name": "stdout",
     "output_type": "stream",
     "text": [
      "{'b': 0}\n",
      "{'b': 1}\n",
      "{'b': 2}\n",
      "{'b': 3}\n",
      "{'b': 4}\n",
      "CPU times: user 418 µs, sys: 181 µs, total: 599 µs\n",
      "Wall time: 479 µs\n"
     ]
    }
   ],
   "source": [
    "%%time\n",
    "s = \"bbbbb\" #Output: 1 Explanation: The answer is \"b\", with the length of 1.\n",
    "sol = Solution()\n",
    "sol.lengthOfLongestSubstring(s)"
   ]
  },
  {
   "cell_type": "code",
   "execution_count": 44,
   "id": "a654a488",
   "metadata": {},
   "outputs": [
    {
     "name": "stdout",
     "output_type": "stream",
     "text": [
      "{'p': 0}\n",
      "{'p': 0, 'w': 1}\n",
      "{'p': 0, 'w': 2}\n",
      "{'p': 0, 'w': 2, 'k': 3}\n",
      "{'p': 0, 'w': 2, 'k': 3, 'e': 4}\n",
      "{'p': 0, 'w': 5, 'k': 3, 'e': 4}\n",
      "CPU times: user 467 µs, sys: 196 µs, total: 663 µs\n",
      "Wall time: 524 µs\n"
     ]
    }
   ],
   "source": [
    "%%time\n",
    "s = \"pwwkew\" #Output: 3 Explanation: The answer is \"wke\", with the length of 3. \n",
    "             #Notice that the answer must be a substring, \"pwke\" is a subsequence and not a substring.\n",
    "sol = Solution()\n",
    "sol.lengthOfLongestSubstring(s)"
   ]
  },
  {
   "cell_type": "code",
   "execution_count": 45,
   "id": "bd450386",
   "metadata": {},
   "outputs": [
    {
     "name": "stdout",
     "output_type": "stream",
     "text": [
      "{'a': 0}\n",
      "{'a': 1}\n",
      "{'a': 1, 'b': 2}\n",
      "CPU times: user 357 µs, sys: 153 µs, total: 510 µs\n",
      "Wall time: 423 µs\n"
     ]
    }
   ],
   "source": [
    "%%time\n",
    "s = \"aab\" #Output: 3 Explanation: The answer is \"wke\", with the length of 3. \n",
    "             #Notice that the answer must be a substring, \"pwke\" is a subsequence and not a substring.\n",
    "sol = Solution()\n",
    "sol.lengthOfLongestSubstring(s)"
   ]
  },
  {
   "cell_type": "code",
   "execution_count": null,
   "id": "26a8dd1d",
   "metadata": {},
   "outputs": [],
   "source": []
  }
 ],
 "metadata": {
  "kernelspec": {
   "display_name": "Python 3",
   "language": "python",
   "name": "python3"
  },
  "language_info": {
   "codemirror_mode": {
    "name": "ipython",
    "version": 3
   },
   "file_extension": ".py",
   "mimetype": "text/x-python",
   "name": "python",
   "nbconvert_exporter": "python",
   "pygments_lexer": "ipython3",
   "version": "3.8.8"
  }
 },
 "nbformat": 4,
 "nbformat_minor": 5
}
