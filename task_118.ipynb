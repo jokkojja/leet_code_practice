{
 "cells": [
  {
   "cell_type": "markdown",
   "id": "6982d62e",
   "metadata": {},
   "source": [
    "# 118. Pascal's Triangle. Easy\n",
    "\n",
    "Given an integer numRows, return the first numRows of Pascal's triangle.\n",
    "\n",
    "In Pascal's triangle, each number is the sum of the two numbers directly above it as shown:\n",
    "\n",
    "Example 1:\n",
    "\n",
    "Input: numRows = 5\n",
    "\n",
    "Output: [[1],[1,1],[1,2,1],[1,3,3,1],[1,4,6,4,1]]\n",
    "\n",
    "\n",
    "\n",
    "Example 2:\n",
    "\n",
    "Input: numRows = 1\n",
    "\n",
    "Output: [[1]]"
   ]
  },
  {
   "cell_type": "code",
   "execution_count": 16,
   "id": "02b5d245",
   "metadata": {},
   "outputs": [],
   "source": [
    "from typing import List\n",
    "from math import factorial\n",
    "# Slow (45.31%) and hight memory (55.5%)\n",
    "class Solution:\n",
    "    def generate(self, numRows: int) -> List[List[int]]:\n",
    "        zero_arr = self.create_zero_arr(numRows)\n",
    "        for i, subarray in enumerate(zero_arr):\n",
    "            for j, elem in enumerate(subarray):\n",
    "                 zero_arr[i][j] = self.calc_elem(i, j)        \n",
    "        return zero_arr\n",
    "    \n",
    "    def create_zero_arr(self, numRows):\n",
    "        ans = []\n",
    "        for i in range(1, numRows+1):\n",
    "            ans.append([0]*i)\n",
    "        return ans  \n",
    "    \n",
    "    def calc_elem(self, n, k):\n",
    "        # n - row, k - col\n",
    "        ans = factorial(n) /( factorial(k) * factorial(n-k))\n",
    "        return int(ans)"
   ]
  },
  {
   "cell_type": "code",
   "execution_count": 17,
   "id": "06a5aa96",
   "metadata": {},
   "outputs": [
    {
     "name": "stdout",
     "output_type": "stream",
     "text": [
      "CPU times: user 46 µs, sys: 0 ns, total: 46 µs\n",
      "Wall time: 51 µs\n"
     ]
    },
    {
     "data": {
      "text/plain": [
       "[[1], [1, 1], [1, 2, 1]]"
      ]
     },
     "execution_count": 17,
     "metadata": {},
     "output_type": "execute_result"
    }
   ],
   "source": [
    "%%time\n",
    "sol = Solution()\n",
    "sol.generate(3)"
   ]
  },
  {
   "cell_type": "code",
   "execution_count": null,
   "id": "25902db2",
   "metadata": {},
   "outputs": [],
   "source": []
  }
 ],
 "metadata": {
  "kernelspec": {
   "display_name": "Python 3",
   "language": "python",
   "name": "python3"
  },
  "language_info": {
   "codemirror_mode": {
    "name": "ipython",
    "version": 3
   },
   "file_extension": ".py",
   "mimetype": "text/x-python",
   "name": "python",
   "nbconvert_exporter": "python",
   "pygments_lexer": "ipython3",
   "version": "3.8.8"
  }
 },
 "nbformat": 4,
 "nbformat_minor": 5
}
