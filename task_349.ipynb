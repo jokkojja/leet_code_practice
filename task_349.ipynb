{
 "cells": [
  {
   "cell_type": "markdown",
   "id": "8c66a851",
   "metadata": {},
   "source": [
    "# 349. Intersection of Two Arrays. Easy\n",
    "\n",
    "Given two integer arrays nums1 and nums2, return an array of their intersection. Each element in the result must be unique and you may return the result in any order.\n",
    "\n",
    " \n",
    "\n",
    "Example 1:\n",
    "\n",
    "Input: nums1 = [1,2,2,1], nums2 = [2,2]\n",
    "Output: [2]\n",
    "\n",
    "Example 2:\n",
    "\n",
    "Input: nums1 = [4,9,5], nums2 = [9,4,9,8,4]\n",
    "Output: [9,4]\n",
    "Explanation: [4,9] is also accepted."
   ]
  },
  {
   "cell_type": "code",
   "execution_count": 1,
   "id": "a9d9d7ce",
   "metadata": {},
   "outputs": [],
   "source": [
    "from typing import List, Counter\n",
    "class Solution:\n",
    "    def intersection(self, nums1: List[int], nums2: List[int]) -> List[int]:\n",
    "        if len(nums2) > len(nums1): return self.intersection(nums2, nums1)\n",
    "        test = Counter(nums1)\n",
    "        ans = []\n",
    "        for elem in nums2:\n",
    "            if test[elem] > 0:\n",
    "                ans.append(elem)\n",
    "                test[elem] -= 1\n",
    "        return list(set(ans))"
   ]
  },
  {
   "cell_type": "code",
   "execution_count": 4,
   "id": "3dffd55b",
   "metadata": {},
   "outputs": [
    {
     "name": "stdout",
     "output_type": "stream",
     "text": [
      "CPU times: user 132 µs, sys: 64 µs, total: 196 µs\n",
      "Wall time: 201 µs\n"
     ]
    },
    {
     "data": {
      "text/plain": [
       "[2]"
      ]
     },
     "execution_count": 4,
     "metadata": {},
     "output_type": "execute_result"
    }
   ],
   "source": [
    "%%time\n",
    "nums1 = [1,2,2,1] \n",
    "nums2 = [2,2] \n",
    "sol = Solution()\n",
    "sol.intersection(nums1, nums2)"
   ]
  },
  {
   "cell_type": "code",
   "execution_count": 5,
   "id": "cebe1572",
   "metadata": {},
   "outputs": [
    {
     "name": "stdout",
     "output_type": "stream",
     "text": [
      "CPU times: user 68 µs, sys: 5 µs, total: 73 µs\n",
      "Wall time: 80.3 µs\n"
     ]
    },
    {
     "data": {
      "text/plain": [
       "[9, 4]"
      ]
     },
     "execution_count": 5,
     "metadata": {},
     "output_type": "execute_result"
    }
   ],
   "source": [
    "%%time\n",
    "nums1 = [4,9,5]\n",
    "nums2 = [9,4,9,8,4] \n",
    "sol = Solution()\n",
    "sol.intersection(nums1, nums2)"
   ]
  },
  {
   "cell_type": "code",
   "execution_count": 6,
   "id": "6c65446b",
   "metadata": {},
   "outputs": [
    {
     "name": "stdout",
     "output_type": "stream",
     "text": [
      "CPU times: user 78 µs, sys: 1 µs, total: 79 µs\n",
      "Wall time: 84.2 µs\n"
     ]
    },
    {
     "data": {
      "text/plain": [
       "[2]"
      ]
     },
     "execution_count": 6,
     "metadata": {},
     "output_type": "execute_result"
    }
   ],
   "source": [
    "%%time\n",
    "nums1 = [1,2,2,1]\n",
    "nums2 = [2]\n",
    "sol = Solution()\n",
    "sol.intersection(nums1, nums2)"
   ]
  },
  {
   "cell_type": "code",
   "execution_count": 7,
   "id": "c1cbe1ee",
   "metadata": {},
   "outputs": [
    {
     "name": "stdout",
     "output_type": "stream",
     "text": [
      "CPU times: user 84 µs, sys: 1e+03 ns, total: 85 µs\n",
      "Wall time: 91.1 µs\n"
     ]
    },
    {
     "data": {
      "text/plain": [
       "[1]"
      ]
     },
     "execution_count": 7,
     "metadata": {},
     "output_type": "execute_result"
    }
   ],
   "source": [
    "%%time\n",
    "nums1 = [1]\n",
    "nums2 = [1]\n",
    "sol = Solution()\n",
    "sol.intersection(nums1, nums2)"
   ]
  }
 ],
 "metadata": {
  "kernelspec": {
   "display_name": "Python 3",
   "language": "python",
   "name": "python3"
  },
  "language_info": {
   "codemirror_mode": {
    "name": "ipython",
    "version": 3
   },
   "file_extension": ".py",
   "mimetype": "text/x-python",
   "name": "python",
   "nbconvert_exporter": "python",
   "pygments_lexer": "ipython3",
   "version": "3.8.8"
  }
 },
 "nbformat": 4,
 "nbformat_minor": 5
}
