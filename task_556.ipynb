{
 "cells": [
  {
   "cell_type": "markdown",
   "id": "b58317d5",
   "metadata": {},
   "source": [
    "# 566. Reshape the Matrix. Easy\n",
    "\n",
    "In MATLAB, there is a handy function called reshape which can reshape an m x n matrix into a new one with a different size r x c keeping its original data.\n",
    "\n",
    "You are given an m x n matrix mat and two integers r and c representing the number of rows and the number of columns of the wanted reshaped matrix.\n",
    "\n",
    "The reshaped matrix should be filled with all the elements of the original matrix in the same row-traversing order as they were.\n",
    "\n",
    "If the reshape operation with given parameters is possible and legal, output the new reshaped matrix; Otherwise, output the original matrix.\n",
    "\n",
    "\n",
    "Input: mat = [[1,2],[3,4]], r = 1, c = 4\n",
    "\n",
    "Output: [[1,2,3,4]]\n",
    "\n",
    "\n",
    "Input: mat = [[1,2],[3,4]], r = 2, c = 4\n",
    "\n",
    "Output: [[1,2],[3,4]]"
   ]
  },
  {
   "cell_type": "code",
   "execution_count": 147,
   "id": "949a3151",
   "metadata": {},
   "outputs": [],
   "source": [
    "from typing import List\n",
    "import itertools\n",
    "# OK memory\n",
    "# Slow, need think to increase\n",
    "\n",
    "class Solution:\n",
    "    def matrixReshape(self, mat: List[List[int]], r: int, c: int) -> List[List[int]]:\n",
    "        my_len = 0\n",
    "        for sub_list in mat:\n",
    "            my_len += len(sub_list)\n",
    "        if (r * c) / my_len != 1:\n",
    "            return mat\n",
    "        else:\n",
    "            ans = []\n",
    "            ravel_matrix = list(itertools.chain(*mat))\n",
    "            for row in range(r):\n",
    "                ans.append([])\n",
    "\n",
    "            for row in ans:\n",
    "                for col in range(c):\n",
    "                    row.append(ravel_matrix[0])\n",
    "                    ravel_matrix.pop(0)\n",
    "            return ans"
   ]
  },
  {
   "cell_type": "code",
   "execution_count": 148,
   "id": "8f2b578f",
   "metadata": {},
   "outputs": [
    {
     "data": {
      "text/plain": [
       "[[1, 2, 3, 4]]"
      ]
     },
     "execution_count": 148,
     "metadata": {},
     "output_type": "execute_result"
    }
   ],
   "source": [
    "sol = Solution()\n",
    "sol.matrixReshape([[1,2], [3,4]], 1, 4)"
   ]
  },
  {
   "cell_type": "code",
   "execution_count": 149,
   "id": "668b098b",
   "metadata": {},
   "outputs": [
    {
     "data": {
      "text/plain": [
       "[[1, 2], [3, 4]]"
      ]
     },
     "execution_count": 149,
     "metadata": {},
     "output_type": "execute_result"
    }
   ],
   "source": [
    "sol = Solution()\n",
    "sol.matrixReshape([[1,2], [3,4]], 2, 4)"
   ]
  },
  {
   "cell_type": "code",
   "execution_count": 150,
   "id": "febe9600",
   "metadata": {},
   "outputs": [
    {
     "data": {
      "text/plain": [
       "[[1], [2], [3], [4]]"
      ]
     },
     "execution_count": 150,
     "metadata": {},
     "output_type": "execute_result"
    }
   ],
   "source": [
    "sol = Solution()\n",
    "sol.matrixReshape([[1,2], [3,4]], 4, 1)"
   ]
  },
  {
   "cell_type": "code",
   "execution_count": null,
   "id": "6c953a20",
   "metadata": {},
   "outputs": [],
   "source": []
  }
 ],
 "metadata": {
  "kernelspec": {
   "display_name": "Python 3",
   "language": "python",
   "name": "python3"
  },
  "language_info": {
   "codemirror_mode": {
    "name": "ipython",
    "version": 3
   },
   "file_extension": ".py",
   "mimetype": "text/x-python",
   "name": "python",
   "nbconvert_exporter": "python",
   "pygments_lexer": "ipython3",
   "version": "3.8.8"
  }
 },
 "nbformat": 4,
 "nbformat_minor": 5
}
